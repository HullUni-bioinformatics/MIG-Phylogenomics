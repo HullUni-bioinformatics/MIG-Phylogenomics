{
 "cells": [
  {
   "cell_type": "markdown",
   "metadata": {},
   "source": [
    "# 0. dependencies\n",
    "## 0.1 reprophylodev.py\n",
    "included\n",
    "## 0.2 misc.py\n",
    "included"
   ]
  },
  {
   "cell_type": "markdown",
   "metadata": {},
   "source": [
    "## 0.3 exonerate version 2.2.0\n",
    "Using glib version 2.31.12\n",
    "Built on Jan 24 2012\n",
    "## 0.4 VSEARCH v1.9.7\n",
    "## 0.5 BWA 0.7.12-r1039\n",
    "## 0.6 Samtools 1.3 \n",
    "using htslib 1.3\n",
    "## 0.7 vcf_2_consensus.py\n",
    "included"
   ]
  },
  {
   "cell_type": "code",
   "execution_count": null,
   "metadata": {
    "collapsed": true
   },
   "outputs": [],
   "source": []
  }
 ],
 "metadata": {
  "kernelspec": {
   "display_name": "Python 2",
   "language": "python",
   "name": "python2"
  },
  "language_info": {
   "codemirror_mode": {
    "name": "ipython",
    "version": 2
   },
   "file_extension": ".py",
   "mimetype": "text/x-python",
   "name": "python",
   "nbconvert_exporter": "python",
   "pygments_lexer": "ipython2",
   "version": "2.7.11"
  }
 },
 "nbformat": 4,
 "nbformat_minor": 0
}
