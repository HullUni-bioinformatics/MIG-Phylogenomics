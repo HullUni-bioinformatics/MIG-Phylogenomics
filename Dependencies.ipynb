{
 "cells": [
  {
   "cell_type": "markdown",
   "metadata": {},
   "source": [
    "# 0. dependencies\n",
    "## 0.1 reprophylodev.py\n",
    "included.  \n",
    "ReproPhylo uses:  \n",
    "+ ete2 2.2rev1056  \n",
    "+ biopython 1.64  \n",
    "+ dendropy 3.12.0  \n",
    "+ cloud 2.8.5  \n",
    "+ numpy 1.8.2  \n",
    "+ matplotlib 1.3.1  \n",
    "+ pandas 0.14.0  \n",
    "\n",
    "## 0.2 misc.py\n",
    "included"
   ]
  },
  {
   "cell_type": "markdown",
   "metadata": {},
   "source": [
    "## 0.3 exonerate version 2.2.0\n",
    "Using glib version 2.31.12\n",
    "Built on Jan 24 2012\n",
    "## 0.4 VSEARCH \n",
    "v1.9.7\n",
    "## 0.5 BWA \n",
    "0.7.12-r1039\n",
    "## 0.6 Samtools 1.3 \n",
    "using htslib 1.3\n",
    "## 0.7 vcf_2_consensus.py\n",
    "By Christoph Hahn https://github.com/chrishah  \n",
    "The most up to date version can be obtained [here](https://github.com/chrishah/genomisc/raw/master/popogeno/vcf_2_consensus.py) \n",
    "and it is a part of the [genomisc](https://github.com/chrishah/genomisc.git) repository by [chrishah](https://github.com/chrishah)."
   ]
  },
  {
   "cell_type": "markdown",
   "metadata": {},
   "source": [
    "## 0.8 Modified OrthoFinder\n",
    "Included. This was before the mcl inflation value was exposed. The version here is commit `2bb1fe3` from https://github.com/davidemms/OrthoFinder. There are 10 copies of it, which differ in inflation value. They are numbered 0-8,20 and the number indicates the inflation, except for 0, which has the default inflation value 1.5, and 1, which has the inflation value 1.1."
   ]
  },
  {
   "cell_type": "markdown",
   "metadata": {},
   "source": [
    "## 0.9 NCBI-BLAST+\n",
    "BLAST 2.2.31+\n",
    "## 0.10 mcl\n",
    "mcl 14-137"
   ]
  },
  {
   "cell_type": "markdown",
   "metadata": {},
   "source": [
    "## 0.11 MAFFT\n",
    "MAFFT v7.299b (2016/Jun/28)  \n",
    "http://mafft.cbrc.jp/alignment/software/  \n",
    "MBE 30:772-780 (2013), NAR 30:3059-3066 (2002)  "
   ]
  },
  {
   "cell_type": "markdown",
   "metadata": {},
   "source": [
    "## 0.12 trimAl\n",
    "trimAl 1.2rev59. Copyright (C) 2009. Salvador Capella-Gutierrez and Toni Gabaldón.  \n",
    "  \n",
    "trimAl webpage: http://trimal.cgenomics.org  \n",
    "  \n",
    "This program is free software: you can redistribute it and/or modify   \n",
    "it under the terms of the GNU General Public License as published by   \n",
    "the Free Software Foundation, the last available version.  \n",
    "  "
   ]
  },
  {
   "cell_type": "markdown",
   "metadata": {},
   "source": [
    "## 0.13 raxmlHPC-PTHREADS\n",
    "This is RAxML version 8.2.8 released by Alexandros Stamatakis on March 23 2016.  \n"
   ]
  },
  {
   "cell_type": "markdown",
   "metadata": {},
   "source": [
    "## 0.14 ASTRAL\n",
    "versio 4.10.6  \n",
    "using java:  \n",
    "openjdk version \"1.8.0_45\"  \n",
    "OpenJDK Runtime Environment (Zulu 8.7.0.5-linux64) (build 1.8.0_45-b14)  \n",
    "OpenJDK 64-Bit Server VM (Zulu 8.7.0.5-linux64) (build 25.45-b02, mixed mode)  "
   ]
  },
  {
   "cell_type": "markdown",
   "metadata": {},
   "source": [
    "## 0.15 treeCl\n",
    "version 0.1.13  \n",
    "https://github.com/kgori/treeCl"
   ]
  },
  {
   "cell_type": "markdown",
   "metadata": {
    "collapsed": true
   },
   "source": [
    "## 0.16 MitoBim\n",
    "v 1.8  \n",
    "https://github.com/chrishah/MITObim  "
   ]
  },
  {
   "cell_type": "markdown",
   "metadata": {},
   "source": [
    "## 0.17 Mira\n",
    "v. 4.0.2  \n",
    "https://sourceforge.net/projects/mira-assembler/files/MIRA/stable/"
   ]
  },
  {
   "cell_type": "markdown",
   "metadata": {},
   "source": [
    "## 0.18 intra_specific_blast.py\n",
    "Following Sujai Kumar in \n",
    "[Lunt et al. 2014](https://peerj.com/articles/356/)  \n",
    "Provided"
   ]
  },
  {
   "cell_type": "markdown",
   "metadata": {},
   "source": [
    "## 0.19 CD-HIT-EST\n",
    "version 4.6 (built on Nov  9 2015)"
   ]
  },
  {
   "cell_type": "markdown",
   "metadata": {},
   "source": [
    "## 0.20 Freebayes\n",
    "version:  v1.0.2  \n",
    "https://github.com/ekg/freebayes"
   ]
  }
 ],
 "metadata": {
  "kernelspec": {
   "display_name": "Python 2",
   "language": "python",
   "name": "python2"
  },
  "language_info": {
   "codemirror_mode": {
    "name": "ipython",
    "version": 2
   },
   "file_extension": ".py",
   "mimetype": "text/x-python",
   "name": "python",
   "nbconvert_exporter": "python",
   "pygments_lexer": "ipython2",
   "version": "2.7.11"
  }
 },
 "nbformat": 4,
 "nbformat_minor": 0
}
