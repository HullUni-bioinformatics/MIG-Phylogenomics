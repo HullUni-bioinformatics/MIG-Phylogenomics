{
 "cells": [
  {
   "cell_type": "markdown",
   "metadata": {},
   "source": [
    "# 6. Mitochondrial genome annotation"
   ]
  },
  {
   "cell_type": "markdown",
   "metadata": {},
   "source": [
    "## 6.1 Exctract mitobim results\n",
    "If you are using my pre-computed assemblies"
   ]
  },
  {
   "cell_type": "code",
   "execution_count": null,
   "metadata": {
    "collapsed": true
   },
   "outputs": [],
   "source": [
    "#import os\n",
    "#from misc import execute_cline\n",
    "\n",
    "#for key in smpl2ref:\n",
    "#    path = '%s_mitobim'%key\n",
    "#    for root, dirs, files in os.walk(path):\n",
    "#        for f in files:\n",
    "#            cline = 'gzip -d %s/%s'%(root,f)\n",
    "#            execute_cline(cline)"
   ]
  },
  {
   "cell_type": "markdown",
   "metadata": {},
   "source": [
    "## 6.2 Make consensus fasta files\n",
    "and put links to all of them in one directory, together with links to ace alignments"
   ]
  },
  {
   "cell_type": "code",
   "execution_count": 1,
   "metadata": {
    "collapsed": true
   },
   "outputs": [],
   "source": [
    "smpl2ref = {\n",
    "    'MentL30'    :['NC_024097.1',15],\n",
    "    'MareHarA'   :['NC_026554.1',4],\n",
    "    'MjavVW4'    :['NC_026556.1',1],\n",
    "    'MjavVW5'    :['NC_026556.1',1],\n",
    "    'MareL28'    :['NC_026554.1',1],\n",
    "    'MincA14'    :['NC_024097.1',1],\n",
    "    'MincW1'    :['NC_024097.1',1],\n",
    "    'MjavLD17'   :['NC_026556.1',1],\n",
    "    'MincL27'    :['NC_024097.1',1],\n",
    "    'MjavLD15'   :['NC_026556.1',1],\n",
    "    'MjavL57'    :['NC_026556.1',1],\n",
    "    'MincVW6'    :['NC_024097.1',1],\n",
    "    'MincL9'     :['NC_024097.1',1],\n",
    "    'Minc557R'   :['NC_024097.1',1],\n",
    "    'MincL19'    :['NC_024097.1',1],\n",
    "    'MareL32'    :['NC_026554.1',4],\n",
    "    'MincHarC'   :['NC_024097.1',1],\n",
    "    'MfloSJF1'   :['NC_024097.1',15],\n",
    "    'MfloJB5'    :['NC_024097.1',6],\n",
    "    'MlanSJH1'   :['NC_024097.1',6]\n",
    "}"
   ]
  },
  {
   "cell_type": "code",
   "execution_count": 2,
   "metadata": {
    "collapsed": false
   },
   "outputs": [
    {
     "name": "stdout",
     "output_type": "stream",
     "text": [
      "\n"
     ]
    },
    {
     "name": "stderr",
     "output_type": "stream",
     "text": [
      "misc.py:291: UserWarning: keeping existing fpath mitochondrial_assemblies\n",
      "  warnings.warn('keeping existing fpath %s'%name)\n"
     ]
    }
   ],
   "source": [
    "from glob import glob\n",
    "from misc import makedir, execute_cline\n",
    "from os.path import exists, abspath\n",
    "\n",
    "makedir('mitochondrial_assemblies')\n",
    "maf_template = '/{smpl}-{ref}_assembly/{smpl}-{ref}_d_results/{smpl}-{ref}_out.maf'\n",
    "miraconvert_cline = 'miraconvert {params} {inf} {outf}'\n",
    "ln_cline = 'ln -s {inf} {outf}'\n",
    "\n",
    "for mitobim_dir in glob('*_mitobim'):\n",
    "    if not any([key in mitobim_dir for key in smpl2ref.keys()]):\n",
    "        continue\n",
    "    smpl = mitobim_dir.split('_')[0]\n",
    "    ref = smpl2ref[smpl][0]\n",
    "    iterations = list(glob(mitobim_dir + '/iteration*'))\n",
    "    max_iter_dir = sorted(iterations,\n",
    "                          key=lambda i:\n",
    "                          int(i.replace(mitobim_dir + '/iteration','')))[-1]\n",
    "    maf = max_iter_dir + maf_template.format(smpl=smpl, ref=ref)\n",
    "    ace = maf.replace('maf','ace')\n",
    "    fasta = maf.replace('.maf','_%s.unpadded.fasta' % smpl)\n",
    "    acelink = 'mitochondrial_assemblies/'+ace.split('/')[-1]\n",
    "    fastalink = 'mitochondrial_assemblies/'+fasta.split('/')[-1]\n",
    "    if not exists(ace):\n",
    "        out, err = execute_cline(miraconvert_cline.format(params='', inf=maf, outf=ace))\n",
    "    if not exists(acelink):\n",
    "        out, err = execute_cline(ln_cline.format(inf=abspath(ace), outf=acelink))\n",
    "\n",
    "    out, err = execute_cline(miraconvert_cline.format(params='-f maf -t fasta -A \"SOLEXA_SETTINGS  -CO:fnicpst=yes\"',\n",
    "                                                      inf=maf, outf=fasta.split('_%s'%smpl)[0]))\n",
    "    \n",
    "    print err\n",
    "    \n",
    "    if not exists(fastalink):\n",
    "        out, err = execute_cline(ln_cline.format(inf=abspath(fasta), outf=fastalink))\n",
    "    "
   ]
  },
  {
   "cell_type": "markdown",
   "metadata": {},
   "source": [
    "## 6.3 Run exonerate\n",
    "For each contig in the assembly run a single alignment of the contig with its respective bait and extract genes which are in this case also the CDSs."
   ]
  },
  {
   "cell_type": "code",
   "execution_count": 6,
   "metadata": {
    "collapsed": false
   },
   "outputs": [],
   "source": [
    "from os import remove\n",
    "from Bio import SeqIO\n",
    "from StringIO import StringIO\n",
    "import misc\n",
    "\n",
    "cds_loci = ['COX1','ND1','ND2','COX3','ND6','ND4L',\n",
    "            'COX2','ND3','CYTB','ND4','ATP6','ND5']\n",
    "\n",
    "## exonerate cline\n",
    "# query and target\n",
    "a = \"exonerate -q %s -t %s -m %s -n 1 --geneticcode 5 --showtargetgff \"\n",
    "# search CDS in DNA and get only the best result\n",
    "b = '--ryo \\\"STARTGENE\\\\n>{0}qi\\\\n{0}tas\\\\nENDGENE\\\\nSTARTCDS\\\\n>{0}qi\\\\n{0}tcs\\\\nENDCDS\\\\n \\\" '.format('%')\n",
    "\n",
    "def iter_records(fpath):\n",
    "    with open(fpath,'r') as lines:\n",
    "        record = []\n",
    "        get = False\n",
    "        for line in lines:\n",
    "            if 'C4 Alignment:' in line:\n",
    "                get = True\n",
    "            if get and 'C4 Alignment:' in line:\n",
    "                if len(record) > 0:\n",
    "                    yield record\n",
    "                    record = [line]\n",
    "                else:\n",
    "                    record = [line]\n",
    "            elif get:\n",
    "                record.append(line)\n",
    "        yield record\n",
    "\n",
    "def parse_a_single_record(record):\n",
    "    \n",
    "    output = {}\n",
    "    \n",
    "    def parse_line_element(ind, parter, element_name):\n",
    "        elementline = record[ind]\n",
    "        try:\n",
    "            output[element_name] = elementline.rstrip().split(parter)[1]\n",
    "            if ' [revcomp]' in elementline:\n",
    "                output[element_name] = output[element_name].replace(' [revcomp]','')\n",
    "            elif ' -> ' in output[element_name] and \\\n",
    "                 element_name == 'Target_start':\n",
    "                output[element_name] = output[element_name].split(' -> ')[0]\n",
    "            elif ' -> ' in output[element_name] and \\\n",
    "                 element_name == 'Target_end':\n",
    "                output[element_name] = output[element_name].split(' -> ')[1]\n",
    "            try:\n",
    "                output[element_name] = int(output[element_name])\n",
    "            except:\n",
    "                pass\n",
    "        except:\n",
    "            raise RuntimeError(\"%s not found\"%parter)\n",
    "\n",
    "            \n",
    "    line_elements = [[2, 'Query: ', 'Query'],\n",
    "                     [3, 'Target: ', 'Target'],\n",
    "                     [5, 'Raw score: ', 'Score'],\n",
    "                     [7, 'Target range: ', 'Target_start'],\n",
    "                     [7, 'Target range: ', 'Target_end']]\n",
    "    \n",
    "    \n",
    "    for ind, parter, element_name in line_elements:\n",
    "        parse_line_element(ind, parter, element_name)\n",
    "        \n",
    "    def parse_block_element(init, halt, element_name):\n",
    "        element = \"\"\n",
    "        get = False\n",
    "        for line in record:\n",
    "            if init in line:\n",
    "                get = True\n",
    "            elif halt in line:\n",
    "                get = False\n",
    "            elif get:\n",
    "                element += line\n",
    "        output[element_name] = element\n",
    "        \n",
    "    block_elements = [['STARTGENE','ENDGENE','Gene'],\n",
    "                      ['STARTCDS','ENDCDS','CDS'],\n",
    "                      ['--- START OF GFF DUMP ---',\n",
    "                       '--- END OF GFF DUMP ---',\n",
    "                       'GFF']\n",
    "                     ]\n",
    "    for init, halt, element_name in block_elements:\n",
    "        parse_block_element(init, halt, element_name)\n",
    "        \n",
    "    return output\n",
    "\n",
    "for smpl in smpl2ref:\n",
    "    ref = smpl2ref[smpl][0]\n",
    "    protref = SeqIO.to_dict(SeqIO.parse('mito_references/%s_proteins.fasta'%ref,'fasta'))\n",
    "    genref  = SeqIO.to_dict(SeqIO.parse('mito_references/%s_genes.fasta'%ref,'fasta'))\n",
    "    assembly = \\\n",
    "    SeqIO.parse('mitochondrial_assemblies/{0}-{1}_out_{0}.unpadded.fasta'.format(smpl,ref),\n",
    "                'fasta') \n",
    "    \n",
    "    gene_file = open('mitochondrial_assemblies/%s_genes.fasta'%smpl,'wt')\n",
    "    \n",
    "    for r in assembly:\n",
    "        gene = r.id.replace(ref+'_','').replace('_bb','')\n",
    "        is_cds = False\n",
    "        if gene in cds_loci:\n",
    "            is_cds = True\n",
    "        if is_cds:\n",
    "            with open('mito_q_temp.fasta','wt') as hndl:\n",
    "                hndl.write(protref[ref+'_'+gene].format('fasta'))\n",
    "        else:\n",
    "            with open('mito_q_temp.fasta','wt') as hndl:\n",
    "                hndl.write(genref[ref+'_'+gene].format('fasta'))\n",
    "        with open('mito_t_temp.fasta','wt') as hndl:\n",
    "            hndl.write('>'+r.id+'\\n'+str(r.seq).replace('x','n')+'\\n')\n",
    "        \n",
    "        model = 'est2genome'\n",
    "        if is_cds:\n",
    "            model = 'protein2genome'\n",
    "        \n",
    "        thiscline = a%('mito_q_temp.fasta',\n",
    "                       'mito_t_temp.fasta',\n",
    "                        model) + b    \n",
    "        #print thiscline\n",
    "        \n",
    "        out, err = misc.execute_cline(thiscline)\n",
    "        #print err\n",
    "        outhndl = open('mitoexo','wt')\n",
    "        outhndl.write(out)\n",
    "        outhndl.close()\n",
    "        \n",
    "        if len(open('mitoexo','r').readlines()) < 6:\n",
    "            print 'no', gene, smpl\n",
    "            continue\n",
    "        \n",
    "        results = parse_a_single_record(list(iter_records('mitoexo'))[0])\n",
    "        newrecord = SeqIO.read(StringIO(results['Gene']),'fasta')\n",
    "        newrecord.id = \"%s_%s\" % (smpl, newrecord.id)\n",
    "        gene_file.write(newrecord.format('fasta'))\n",
    "        \n",
    "        remove('mitoexo')\n",
    "        remove('mito_q_temp.fasta')\n",
    "        remove('mito_t_temp.fasta')\n",
    "        \n",
    "    gene_file.close()"
   ]
  },
  {
   "cell_type": "code",
   "execution_count": null,
   "metadata": {
    "collapsed": true
   },
   "outputs": [],
   "source": []
  }
 ],
 "metadata": {
  "kernelspec": {
   "display_name": "Python 2",
   "language": "python",
   "name": "python2"
  },
  "language_info": {
   "codemirror_mode": {
    "name": "ipython",
    "version": 2
   },
   "file_extension": ".py",
   "mimetype": "text/x-python",
   "name": "python",
   "nbconvert_exporter": "python",
   "pygments_lexer": "ipython2",
   "version": "2.7.11"
  }
 },
 "nbformat": 4,
 "nbformat_minor": 0
}
