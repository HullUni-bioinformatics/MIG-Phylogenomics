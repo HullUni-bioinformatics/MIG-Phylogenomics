{
 "cells": [
  {
   "cell_type": "markdown",
   "metadata": {},
   "source": [
    "# 5. Mitochondrial genome assembly\n",
    "## 5.1 mitobim assembly\n",
    "### 5.1.1 Choose parameters\n",
    "Choose a reference mitochondrial genome reference for each sample and the maximum mismatches per read:"
   ]
  },
  {
   "cell_type": "code",
   "execution_count": 3,
   "metadata": {
    "collapsed": true
   },
   "outputs": [],
   "source": [
    "smpl2ref = {\n",
    "    'MentL30'    :['NC_024097.1',15],\n",
    "    'MlanSJH1'    :['NC_024097.1',7],\n",
    "    'MareHarA'   :['NC_026554.1',4],\n",
    "    'MjavVW4'    :['NC_026556.1',1],\n",
    "    'MjavVW5'    :['NC_026556.1',1],\n",
    "    'MareL28'    :['NC_026554.1',1],\n",
    "    'MincA14'    :['NC_024097.1',1],\n",
    "    'MincW1'    :['NC_024097.1',1],\n",
    "    'MjavLD17'   :['NC_026556.1',1],\n",
    "    'MincL27'    :['NC_024097.1',1],\n",
    "    'MjavLD15'   :['NC_026556.1',1],\n",
    "    'MjavL57'    :['NC_026556.1',1],\n",
    "    'MincVW6'    :['NC_024097.1',1],\n",
    "    'MincL9'     :['NC_024097.1',1],\n",
    "    'Minc557R'   :['NC_024097.1',1],\n",
    "    'MincL19'    :['NC_024097.1',1],\n",
    "    'MareL32'    :['NC_026554.1',4],\n",
    "    'MincHarC'   :['NC_024097.1',1],\n",
    "    'MfloSJF1'   :['NC_024097.1',15],\n",
    "    'MfloJB5'    :['NC_024097.1',6]     \n",
    "}"
   ]
  },
  {
   "cell_type": "markdown",
   "metadata": {},
   "source": [
    "### 5.1.2 Prepare a subset of 25M reads"
   ]
  },
  {
   "cell_type": "code",
   "execution_count": 3,
   "metadata": {},
   "outputs": [
    {
     "name": "stdout",
     "output_type": "stream",
     "text": [
      "A subset of 25000000 sequences\n",
      "from the file /media/amir/DATA/Read_data/quality_trimmed/MincW1_1_trimmomatic.fastq.gz\n",
      "will be written to /media/amir/DATA/Read_data/25M_reads_subset/MincW1_25M_SE_subset.fastq.gz\n",
      "using the command\n",
      "zcat /media/amir/DATA/Read_data/quality_trimmed/MincW1_1_trimmomatic.fastq.gz | sed -n 1,100000000p | gzip > /media/amir/DATA/Read_data/25M_reads_subset/MincW1_25M_SE_subset.fastq.gz\n",
      "stdout:\n",
      "\n",
      "stderr:\n",
      "\n"
     ]
    }
   ],
   "source": [
    "def run_parallel_subset(smpl2ref):\n",
    "    \n",
    "    \n",
    "    import threading\n",
    "    import os, misc\n",
    "     \n",
    "    class MyThread(threading.Thread):\n",
    "        def __init__(self, smpl):\n",
    "            threading.Thread.__init__(self)\n",
    "            self.smpl = smpl\n",
    "\n",
    "        def run(self):\n",
    "            trimmed = '/media/amir/DATA/Read_data/quality_trimmed/%s_1_trimmomatic.fastq.gz'%self.smpl\n",
    "            # input still has old sample IDs for L17 and L15\n",
    "            trimmed = trimmed.replace('MjavLD17','MincL17').replace('MjavLD15','MincL15')\n",
    "            # The subset output will have the new sample IDs\n",
    "            subset = '/media/amir/DATA/Read_data/25M_reads_subset/%s_25M_SE_subset.fastq.gz'%self.smpl\n",
    "            \n",
    "            # how many reads in the trimmed reads file?\n",
    "            out, err = misc.execute_cline('zcat %s | grep -c \"^+$\"' % trimmed)\n",
    "            if int(out) > 25000000: # then get a subset\n",
    "                misc.sed_subset_fastq_gz(trimmed, 25000000, subset)\n",
    "            else: # just make a link\n",
    "                out, err = misc.execute_cline('ln -s %s %s' % (trimmed, subset))\n",
    "            \n",
    "    threads = [MyThread(smpl) for smpl in smpl2ref.keys()]\n",
    "\n",
    "    for t in threads:\n",
    "        t.start()\n",
    "\n",
    "    for t in threads:\n",
    "        t.join()\n",
    "        \n",
    "smpl2ref1 = {key: smpl2ref[key] for key in smpl2ref.keys()[:10]}   \n",
    "smpl2ref2 = {key: smpl2ref[key] for key in smpl2ref.keys()[10:]}    \n",
    "run_parallel_subset(smpl2ref1)\n",
    "run_parallel_subset(smpl2ref2)"
   ]
  },
  {
   "cell_type": "markdown",
   "metadata": {},
   "source": [
    "### 5.1.3 Run mitobim"
   ]
  },
  {
   "cell_type": "code",
   "execution_count": 22,
   "metadata": {},
   "outputs": [],
   "source": [
    "import misc\n",
    "# command line templates\n",
    "cdcline = \"cd %s && %s && cd ..\" #%(workdir, cline)\n",
    "mitobimcline = \"MITObim.pl -start 0 -end 40 --clean \"\n",
    "mitobimcline+= \"-sample {0} -ref {1} \"\n",
    "mitobimcline+= \"-readpool /media/amir/DATA/Read_data/25M_reads_subset/{0}_25M_SE_subset.fastq.gz \"\n",
    "mitobimcline+= \"--quick ../mito_references/{1}_genes.fasta \"\n",
    "mitobimcline+= \"--mismatch {2} \"\n",
    "\n",
    "for smpl in smpl2ref:\n",
    "    workdir = smpl + \"_mitobim\"\n",
    "    ref = smpl2ref[smpl][0]\n",
    "    mismatch = smpl2ref[smpl][1]\n",
    "    misc.makedir(workdir)\n",
    "    cline = cdcline%(workdir, mitobimcline.format(smpl, ref, mismatch))\n",
    "    out, err = misc.execute_cline(cline)\n",
    "    with open(workdir + '/log','wt') as log:\n",
    "        log.write(out)"
   ]
  },
  {
   "cell_type": "code",
   "execution_count": null,
   "metadata": {
    "collapsed": true
   },
   "outputs": [],
   "source": []
  }
 ],
 "metadata": {
  "kernelspec": {
   "display_name": "Python 2",
   "language": "python",
   "name": "python2"
  },
  "language_info": {
   "codemirror_mode": {
    "name": "ipython",
    "version": 2
   },
   "file_extension": ".py",
   "mimetype": "text/x-python",
   "name": "python",
   "nbconvert_exporter": "python",
   "pygments_lexer": "ipython2",
   "version": "2.7.13"
  }
 },
 "nbformat": 4,
 "nbformat_minor": 1
}
